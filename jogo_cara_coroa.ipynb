{
 "cells": [
  {
   "cell_type": "code",
   "execution_count": null,
   "metadata": {},
   "outputs": [],
   "source": [
    "import random"
   ]
  },
  {
   "cell_type": "code",
   "execution_count": null,
   "metadata": {},
   "outputs": [],
   "source": [
    "input('\\n Vamos tirar CARA ou COROA? Valendo dinheiro! \\n***Pressione ENTER para começar***')\n",
    "\n",
    "def jogo():\n",
    "    dinheiro = int(input('\\n Quanto dinheiro você tem? '))\n",
    "    \n",
    "    if dinheiro == 0:\n",
    "        print('\\n !!! Você não tem dinherio !!!')\n",
    "    \n",
    "    while dinheiro > 0:\n",
    "        cara_coroa = random.randint(0,1) #gera 0 ou 1 aleatoriamente.  0 = cara; 1 = coroa\n",
    "        aposta = int(input('\\n Quanto dinheiro vamos apostar? '))\n",
    "        if aposta > dinheiro:\n",
    "            print('\\n !!! Você não tem dinheiro suficiente !!!')\n",
    "              \n",
    "        else:\n",
    "            escolha = input('\\n Qual a sua aposta, cara ou coroa? ')\n",
    "            if (escolha == 'cara' and cara_coroa == 0) or (escolha == 'coroa' and cara_coroa == 1):\n",
    "                dinheiro += aposta\n",
    "                print ('\\n Você ganhou! Agora você tem %s!' % (dinheiro))\n",
    "                \n",
    "                jogar_de_novo = input('\\n Você quer apostar mais uma vez? S para sim ou N para não' )\n",
    "                if jogar_de_novo == 'N'or jogar_de_novo == 'n':\n",
    "                    print('\\n Até mais!')\n",
    "                    break\n",
    "                else:\n",
    "                    continue\n",
    "                \n",
    "\n",
    "            elif (escolha == 'cara' and cara_coroa == 1) or (escolha == 'coroa' and cara_coroa == 0):\n",
    "                dinheiro -= aposta\n",
    "                print ('\\n Você perdeu! \\n Agora você tem %s!' % (dinheiro))\n",
    "                \n",
    "            \n",
    "                jogar_de_novo = input('\\n Você quer apostar mais uma vez? S para sim ou N para não' )\n",
    "                if jogar_de_novo == 'N'or jogar_de_novo == 'n':\n",
    "                    print('\\n Até mais!')\n",
    "                    break\n",
    "                else:\n",
    "                    continue\n",
    "\n",
    "            else:\n",
    "                print ('\\n Qual a sua aposta, cara ou coroa?')\n",
    "\n",
    "  \n",
    "    \n",
    "jogo()\n"
   ]
  },
  {
   "cell_type": "code",
   "execution_count": null,
   "metadata": {},
   "outputs": [],
   "source": []
  },
  {
   "cell_type": "code",
   "execution_count": null,
   "metadata": {},
   "outputs": [],
   "source": []
  }
 ],
 "metadata": {
  "kernelspec": {
   "display_name": "Python 3",
   "language": "python",
   "name": "python3"
  },
  "language_info": {
   "codemirror_mode": {
    "name": "ipython",
    "version": 3
   },
   "file_extension": ".py",
   "mimetype": "text/x-python",
   "name": "python",
   "nbconvert_exporter": "python",
   "pygments_lexer": "ipython3",
   "version": "3.8.3"
  }
 },
 "nbformat": 4,
 "nbformat_minor": 4
}
