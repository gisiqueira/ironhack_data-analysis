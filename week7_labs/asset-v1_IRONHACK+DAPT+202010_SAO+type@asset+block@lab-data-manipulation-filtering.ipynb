{
 "cells": [
  {
   "cell_type": "markdown",
   "metadata": {
    "colab_type": "text",
    "id": "A5ERK_DCx9aI"
   },
   "source": [
    "# Lab-Data-Manipulation - Filtering Data\n"
   ]
  },
  {
   "cell_type": "code",
   "execution_count": 1,
   "metadata": {
    "ExecuteTime": {
     "end_time": "2020-12-04T01:25:08.919257Z",
     "start_time": "2020-12-04T01:25:08.432317Z"
    },
    "colab": {},
    "colab_type": "code",
    "id": "yCW1PDuxx9aJ"
   },
   "outputs": [],
   "source": [
    "import pandas as pd"
   ]
  },
  {
   "cell_type": "markdown",
   "metadata": {
    "colab_type": "text",
    "id": "huFCFH-1x9aO"
   },
   "source": [
    "# Context \n",
    "\n",
    "For this lab you'll use a dataset for UFO observations. The objective is to exercise the manipulation of a dataframe, so we'll use the tools we've learned about `reading`, `renaming`, `selecting specific columns`, `filtering based on conditions` and `merging` dataframes to try to better understand our dataset and store an enriched version of our dataset at the end.\n",
    "\n",
    "Good Luck."
   ]
  },
  {
   "cell_type": "markdown",
   "metadata": {
    "colab_type": "text",
    "id": "ywyzhPcIx9aQ"
   },
   "source": [
    "variable\t|class|\tdescription\n",
    "------------|-----|-------------\n",
    "date_time\t|datetime (mdy h:m)\t| Date time sighting occurred\n",
    "city_area\t|character\t        | City or area of sighting\n",
    "state\t    |character          |\tstate/region of sighting\n",
    "country\t    |character          |\tCountry of sighting\n",
    "ufo_shape\t|character          |\tUFO Shape\n",
    "encounter_length\t|double     |\tEncounter length in seconds\n",
    "described_encounter_length\t|character |\tEncounter length as described (eg 1 hour, etc)\n",
    "description\t|character          |\tDescription of encounter\n",
    "date_documented\t|character      |\tDate documented\n",
    "latitude\t|double             |\tLatitude\n",
    "longitude\t|double             |\tLongitude"
   ]
  },
  {
   "cell_type": "markdown",
   "metadata": {
    "colab_type": "text",
    "id": "MbWNze7Rx9aS"
   },
   "source": [
    "## Read the dataset and store it in a dataframe called `ufo`\n",
    "\n",
    "Pay attention at the file separator."
   ]
  },
  {
   "cell_type": "code",
   "execution_count": 2,
   "metadata": {
    "ExecuteTime": {
     "end_time": "2020-12-04T01:25:13.884003Z",
     "start_time": "2020-12-04T01:25:12.688066Z"
    },
    "colab": {},
    "colab_type": "code",
    "id": "r_nmsqgTx9aT",
    "scrolled": true
   },
   "outputs": [],
   "source": [
    "ufo = pd.read_csv('data/ufo.csv', sep=';', engine='python')"
   ]
  },
  {
   "cell_type": "code",
   "execution_count": 3,
   "metadata": {
    "ExecuteTime": {
     "end_time": "2020-12-04T01:25:17.422136Z",
     "start_time": "2020-12-04T01:25:17.377255Z"
    }
   },
   "outputs": [
    {
     "data": {
      "text/html": [
       "<div>\n",
       "<style scoped>\n",
       "    .dataframe tbody tr th:only-of-type {\n",
       "        vertical-align: middle;\n",
       "    }\n",
       "\n",
       "    .dataframe tbody tr th {\n",
       "        vertical-align: top;\n",
       "    }\n",
       "\n",
       "    .dataframe thead th {\n",
       "        text-align: right;\n",
       "    }\n",
       "</style>\n",
       "<table border=\"1\" class=\"dataframe\">\n",
       "  <thead>\n",
       "    <tr style=\"text-align: right;\">\n",
       "      <th></th>\n",
       "      <th>Unnamed: 0</th>\n",
       "      <th>date</th>\n",
       "      <th>year</th>\n",
       "      <th>month</th>\n",
       "      <th>day</th>\n",
       "      <th>date_time</th>\n",
       "      <th>city_area</th>\n",
       "      <th>state</th>\n",
       "      <th>country</th>\n",
       "      <th>ufo_shape</th>\n",
       "      <th>encounter_length</th>\n",
       "      <th>described_encounter_length</th>\n",
       "      <th>description</th>\n",
       "      <th>date_documented</th>\n",
       "      <th>latitude</th>\n",
       "      <th>longitude</th>\n",
       "    </tr>\n",
       "  </thead>\n",
       "  <tbody>\n",
       "    <tr>\n",
       "      <th>0</th>\n",
       "      <td>0</td>\n",
       "      <td>1949-10-10</td>\n",
       "      <td>1949</td>\n",
       "      <td>10</td>\n",
       "      <td>10</td>\n",
       "      <td>10/10/1949 20:30</td>\n",
       "      <td>san marcos</td>\n",
       "      <td>tx</td>\n",
       "      <td>us</td>\n",
       "      <td>cylinder</td>\n",
       "      <td>2700.0</td>\n",
       "      <td>45 minutes</td>\n",
       "      <td>This event took place in early fall around 194...</td>\n",
       "      <td>4/27/2004</td>\n",
       "      <td>29.883056</td>\n",
       "      <td>-97.941111</td>\n",
       "    </tr>\n",
       "    <tr>\n",
       "      <th>1</th>\n",
       "      <td>1</td>\n",
       "      <td>1949-10-10</td>\n",
       "      <td>1949</td>\n",
       "      <td>10</td>\n",
       "      <td>10</td>\n",
       "      <td>10/10/1949 21:00</td>\n",
       "      <td>lackland afb</td>\n",
       "      <td>tx</td>\n",
       "      <td>NaN</td>\n",
       "      <td>light</td>\n",
       "      <td>7200.0</td>\n",
       "      <td>1-2 hrs</td>\n",
       "      <td>1949 Lackland AFB&amp;#44 TX.  Lights racing acros...</td>\n",
       "      <td>12/16/2005</td>\n",
       "      <td>29.384210</td>\n",
       "      <td>-98.581082</td>\n",
       "    </tr>\n",
       "    <tr>\n",
       "      <th>2</th>\n",
       "      <td>2</td>\n",
       "      <td>1955-10-10</td>\n",
       "      <td>1955</td>\n",
       "      <td>10</td>\n",
       "      <td>10</td>\n",
       "      <td>10/10/1955 17:00</td>\n",
       "      <td>chester (uk/england)</td>\n",
       "      <td>NaN</td>\n",
       "      <td>gb</td>\n",
       "      <td>circle</td>\n",
       "      <td>20.0</td>\n",
       "      <td>20 seconds</td>\n",
       "      <td>Green/Orange circular disc over Chester&amp;#44 En...</td>\n",
       "      <td>1/21/2008</td>\n",
       "      <td>53.200000</td>\n",
       "      <td>-2.916667</td>\n",
       "    </tr>\n",
       "    <tr>\n",
       "      <th>3</th>\n",
       "      <td>3</td>\n",
       "      <td>1956-10-10</td>\n",
       "      <td>1956</td>\n",
       "      <td>10</td>\n",
       "      <td>10</td>\n",
       "      <td>10/10/1956 21:00</td>\n",
       "      <td>edna</td>\n",
       "      <td>tx</td>\n",
       "      <td>us</td>\n",
       "      <td>circle</td>\n",
       "      <td>20.0</td>\n",
       "      <td>1/2 hour</td>\n",
       "      <td>My older brother and twin sister were leaving ...</td>\n",
       "      <td>1/17/2004</td>\n",
       "      <td>28.978333</td>\n",
       "      <td>-96.645833</td>\n",
       "    </tr>\n",
       "    <tr>\n",
       "      <th>4</th>\n",
       "      <td>4</td>\n",
       "      <td>1960-10-10</td>\n",
       "      <td>1960</td>\n",
       "      <td>10</td>\n",
       "      <td>10</td>\n",
       "      <td>10/10/1960 20:00</td>\n",
       "      <td>kaneohe</td>\n",
       "      <td>hi</td>\n",
       "      <td>us</td>\n",
       "      <td>light</td>\n",
       "      <td>900.0</td>\n",
       "      <td>15 minutes</td>\n",
       "      <td>AS a Marine 1st Lt. flying an FJ4B fighter/att...</td>\n",
       "      <td>1/22/2004</td>\n",
       "      <td>21.418056</td>\n",
       "      <td>-157.803611</td>\n",
       "    </tr>\n",
       "  </tbody>\n",
       "</table>\n",
       "</div>"
      ],
      "text/plain": [
       "   Unnamed: 0        date  year  month  day         date_time  \\\n",
       "0           0  1949-10-10  1949     10   10  10/10/1949 20:30   \n",
       "1           1  1949-10-10  1949     10   10  10/10/1949 21:00   \n",
       "2           2  1955-10-10  1955     10   10  10/10/1955 17:00   \n",
       "3           3  1956-10-10  1956     10   10  10/10/1956 21:00   \n",
       "4           4  1960-10-10  1960     10   10  10/10/1960 20:00   \n",
       "\n",
       "              city_area state country ufo_shape  encounter_length  \\\n",
       "0            san marcos    tx      us  cylinder            2700.0   \n",
       "1          lackland afb    tx     NaN     light            7200.0   \n",
       "2  chester (uk/england)   NaN      gb    circle              20.0   \n",
       "3                  edna    tx      us    circle              20.0   \n",
       "4               kaneohe    hi      us     light             900.0   \n",
       "\n",
       "  described_encounter_length  \\\n",
       "0                 45 minutes   \n",
       "1                    1-2 hrs   \n",
       "2                 20 seconds   \n",
       "3                   1/2 hour   \n",
       "4                 15 minutes   \n",
       "\n",
       "                                         description date_documented  \\\n",
       "0  This event took place in early fall around 194...       4/27/2004   \n",
       "1  1949 Lackland AFB&#44 TX.  Lights racing acros...      12/16/2005   \n",
       "2  Green/Orange circular disc over Chester&#44 En...       1/21/2008   \n",
       "3  My older brother and twin sister were leaving ...       1/17/2004   \n",
       "4  AS a Marine 1st Lt. flying an FJ4B fighter/att...       1/22/2004   \n",
       "\n",
       "    latitude   longitude  \n",
       "0  29.883056  -97.941111  \n",
       "1  29.384210  -98.581082  \n",
       "2  53.200000   -2.916667  \n",
       "3  28.978333  -96.645833  \n",
       "4  21.418056 -157.803611  "
      ]
     },
     "execution_count": 3,
     "metadata": {},
     "output_type": "execute_result"
    }
   ],
   "source": [
    "ufo.head()"
   ]
  },
  {
   "cell_type": "markdown",
   "metadata": {
    "colab_type": "text",
    "id": "TYm6aCEjx9aX"
   },
   "source": [
    "## Check the first 6 columns of the dataframe"
   ]
  },
  {
   "cell_type": "code",
   "execution_count": 5,
   "metadata": {
    "ExecuteTime": {
     "end_time": "2020-12-04T01:25:41.575556Z",
     "start_time": "2020-12-04T01:25:41.537657Z"
    },
    "colab": {},
    "colab_type": "code",
    "id": "AWGB6sOCx9aY",
    "scrolled": true
   },
   "outputs": [
    {
     "data": {
      "text/html": [
       "<div>\n",
       "<style scoped>\n",
       "    .dataframe tbody tr th:only-of-type {\n",
       "        vertical-align: middle;\n",
       "    }\n",
       "\n",
       "    .dataframe tbody tr th {\n",
       "        vertical-align: top;\n",
       "    }\n",
       "\n",
       "    .dataframe thead th {\n",
       "        text-align: right;\n",
       "    }\n",
       "</style>\n",
       "<table border=\"1\" class=\"dataframe\">\n",
       "  <thead>\n",
       "    <tr style=\"text-align: right;\">\n",
       "      <th></th>\n",
       "      <th>Unnamed: 0</th>\n",
       "      <th>date</th>\n",
       "      <th>year</th>\n",
       "      <th>month</th>\n",
       "      <th>day</th>\n",
       "      <th>date_time</th>\n",
       "      <th>city_area</th>\n",
       "    </tr>\n",
       "  </thead>\n",
       "  <tbody>\n",
       "    <tr>\n",
       "      <th>0</th>\n",
       "      <td>0</td>\n",
       "      <td>1949-10-10</td>\n",
       "      <td>1949</td>\n",
       "      <td>10</td>\n",
       "      <td>10</td>\n",
       "      <td>10/10/1949 20:30</td>\n",
       "      <td>san marcos</td>\n",
       "    </tr>\n",
       "    <tr>\n",
       "      <th>1</th>\n",
       "      <td>1</td>\n",
       "      <td>1949-10-10</td>\n",
       "      <td>1949</td>\n",
       "      <td>10</td>\n",
       "      <td>10</td>\n",
       "      <td>10/10/1949 21:00</td>\n",
       "      <td>lackland afb</td>\n",
       "    </tr>\n",
       "    <tr>\n",
       "      <th>2</th>\n",
       "      <td>2</td>\n",
       "      <td>1955-10-10</td>\n",
       "      <td>1955</td>\n",
       "      <td>10</td>\n",
       "      <td>10</td>\n",
       "      <td>10/10/1955 17:00</td>\n",
       "      <td>chester (uk/england)</td>\n",
       "    </tr>\n",
       "    <tr>\n",
       "      <th>3</th>\n",
       "      <td>3</td>\n",
       "      <td>1956-10-10</td>\n",
       "      <td>1956</td>\n",
       "      <td>10</td>\n",
       "      <td>10</td>\n",
       "      <td>10/10/1956 21:00</td>\n",
       "      <td>edna</td>\n",
       "    </tr>\n",
       "    <tr>\n",
       "      <th>4</th>\n",
       "      <td>4</td>\n",
       "      <td>1960-10-10</td>\n",
       "      <td>1960</td>\n",
       "      <td>10</td>\n",
       "      <td>10</td>\n",
       "      <td>10/10/1960 20:00</td>\n",
       "      <td>kaneohe</td>\n",
       "    </tr>\n",
       "    <tr>\n",
       "      <th>...</th>\n",
       "      <td>...</td>\n",
       "      <td>...</td>\n",
       "      <td>...</td>\n",
       "      <td>...</td>\n",
       "      <td>...</td>\n",
       "      <td>...</td>\n",
       "      <td>...</td>\n",
       "    </tr>\n",
       "    <tr>\n",
       "      <th>80327</th>\n",
       "      <td>80327</td>\n",
       "      <td>2013-09-09</td>\n",
       "      <td>2013</td>\n",
       "      <td>9</td>\n",
       "      <td>9</td>\n",
       "      <td>9/9/2013 21:15</td>\n",
       "      <td>nashville</td>\n",
       "    </tr>\n",
       "    <tr>\n",
       "      <th>80328</th>\n",
       "      <td>80328</td>\n",
       "      <td>2013-09-09</td>\n",
       "      <td>2013</td>\n",
       "      <td>9</td>\n",
       "      <td>9</td>\n",
       "      <td>9/9/2013 22:00</td>\n",
       "      <td>boise</td>\n",
       "    </tr>\n",
       "    <tr>\n",
       "      <th>80329</th>\n",
       "      <td>80329</td>\n",
       "      <td>2013-09-09</td>\n",
       "      <td>2013</td>\n",
       "      <td>9</td>\n",
       "      <td>9</td>\n",
       "      <td>9/9/2013 22:00</td>\n",
       "      <td>napa</td>\n",
       "    </tr>\n",
       "    <tr>\n",
       "      <th>80330</th>\n",
       "      <td>80330</td>\n",
       "      <td>2013-09-09</td>\n",
       "      <td>2013</td>\n",
       "      <td>9</td>\n",
       "      <td>9</td>\n",
       "      <td>9/9/2013 22:20</td>\n",
       "      <td>vienna</td>\n",
       "    </tr>\n",
       "    <tr>\n",
       "      <th>80331</th>\n",
       "      <td>80331</td>\n",
       "      <td>2013-09-09</td>\n",
       "      <td>2013</td>\n",
       "      <td>9</td>\n",
       "      <td>9</td>\n",
       "      <td>9/9/2013 23:00</td>\n",
       "      <td>edmond</td>\n",
       "    </tr>\n",
       "  </tbody>\n",
       "</table>\n",
       "<p>80332 rows × 7 columns</p>\n",
       "</div>"
      ],
      "text/plain": [
       "       Unnamed: 0        date  year  month  day         date_time  \\\n",
       "0               0  1949-10-10  1949     10   10  10/10/1949 20:30   \n",
       "1               1  1949-10-10  1949     10   10  10/10/1949 21:00   \n",
       "2               2  1955-10-10  1955     10   10  10/10/1955 17:00   \n",
       "3               3  1956-10-10  1956     10   10  10/10/1956 21:00   \n",
       "4               4  1960-10-10  1960     10   10  10/10/1960 20:00   \n",
       "...           ...         ...   ...    ...  ...               ...   \n",
       "80327       80327  2013-09-09  2013      9    9    9/9/2013 21:15   \n",
       "80328       80328  2013-09-09  2013      9    9    9/9/2013 22:00   \n",
       "80329       80329  2013-09-09  2013      9    9    9/9/2013 22:00   \n",
       "80330       80330  2013-09-09  2013      9    9    9/9/2013 22:20   \n",
       "80331       80331  2013-09-09  2013      9    9    9/9/2013 23:00   \n",
       "\n",
       "                  city_area  \n",
       "0                san marcos  \n",
       "1              lackland afb  \n",
       "2      chester (uk/england)  \n",
       "3                      edna  \n",
       "4                   kaneohe  \n",
       "...                     ...  \n",
       "80327             nashville  \n",
       "80328                 boise  \n",
       "80329                  napa  \n",
       "80330                vienna  \n",
       "80331                edmond  \n",
       "\n",
       "[80332 rows x 7 columns]"
      ]
     },
     "execution_count": 5,
     "metadata": {},
     "output_type": "execute_result"
    }
   ],
   "source": [
    "ufo.loc[:, :'city_area']"
   ]
  },
  {
   "cell_type": "markdown",
   "metadata": {
    "colab_type": "text",
    "id": "lpYce6cVx9ab"
   },
   "source": [
    "## Check the shape of your dataframe to see how many rows and columns it has"
   ]
  },
  {
   "cell_type": "code",
   "execution_count": 6,
   "metadata": {
    "ExecuteTime": {
     "end_time": "2020-12-04T01:25:46.878758Z",
     "start_time": "2020-12-04T01:25:46.866788Z"
    },
    "colab": {},
    "colab_type": "code",
    "id": "bPLEGkxUx9ac"
   },
   "outputs": [
    {
     "data": {
      "text/plain": [
       "(80332, 16)"
      ]
     },
     "execution_count": 6,
     "metadata": {},
     "output_type": "execute_result"
    }
   ],
   "source": [
    "ufo.shape"
   ]
  },
  {
   "cell_type": "markdown",
   "metadata": {
    "colab_type": "text",
    "id": "FBSsmi7Lx9ag"
   },
   "source": [
    "## Bring the date information to the beginning of the dataframe\n",
    "\n",
    "If you check the dataframe columns, there are some information of the date at the end of the dataframe. For this task, you should reorder the columns in a way that the first few columns all show the date information. \n",
    "\n",
    "*Hint: Use the ufo.columns to see all the column names you have.*"
   ]
  },
  {
   "cell_type": "code",
   "execution_count": 7,
   "metadata": {
    "ExecuteTime": {
     "end_time": "2020-12-04T01:26:41.701417Z",
     "start_time": "2020-12-04T01:26:41.687414Z"
    },
    "colab": {},
    "colab_type": "code",
    "id": "aZMKY0J8x9ah"
   },
   "outputs": [
    {
     "data": {
      "text/plain": [
       "Index(['Unnamed: 0', 'date', 'year', 'month', 'day', 'date_time', 'city_area',\n",
       "       'state', 'country', 'ufo_shape', 'encounter_length',\n",
       "       'described_encounter_length', 'description', 'date_documented',\n",
       "       'latitude', 'longitude'],\n",
       "      dtype='object')"
      ]
     },
     "execution_count": 7,
     "metadata": {},
     "output_type": "execute_result"
    }
   ],
   "source": [
    "ufo.columns"
   ]
  },
  {
   "cell_type": "code",
   "execution_count": 8,
   "metadata": {
    "ExecuteTime": {
     "end_time": "2020-12-04T01:27:02.880615Z",
     "start_time": "2020-12-04T01:27:02.805816Z"
    },
    "colab": {},
    "colab_type": "code",
    "id": "5sPPjIVAx9aq"
   },
   "outputs": [],
   "source": [
    "new_order = ['Unnamed: 0', 'date', 'year', 'month', 'day', 'date_time', 'date_documented', 'city_area',\n",
    "       'state', 'country', 'ufo_shape', 'encounter_length',\n",
    "       'described_encounter_length', 'description',\n",
    "       'latitude', 'longitude']\n",
    "ufo = ufo.reindex(columns=new_order)\n",
    "ufo = ufo.loc[:, new_order]"
   ]
  },
  {
   "cell_type": "markdown",
   "metadata": {
    "colab_type": "text",
    "id": "_dG399yfx9ax"
   },
   "source": [
    "## Just check if you did it the right way. Take a look at the head of the dataframe again and see if the `ufo` dataframe now is reordered."
   ]
  },
  {
   "cell_type": "code",
   "execution_count": 9,
   "metadata": {
    "ExecuteTime": {
     "end_time": "2020-12-04T01:27:05.741962Z",
     "start_time": "2020-12-04T01:27:05.712044Z"
    },
    "colab": {},
    "colab_type": "code",
    "id": "QBBa-SDlx9az",
    "scrolled": true
   },
   "outputs": [
    {
     "data": {
      "text/html": [
       "<div>\n",
       "<style scoped>\n",
       "    .dataframe tbody tr th:only-of-type {\n",
       "        vertical-align: middle;\n",
       "    }\n",
       "\n",
       "    .dataframe tbody tr th {\n",
       "        vertical-align: top;\n",
       "    }\n",
       "\n",
       "    .dataframe thead th {\n",
       "        text-align: right;\n",
       "    }\n",
       "</style>\n",
       "<table border=\"1\" class=\"dataframe\">\n",
       "  <thead>\n",
       "    <tr style=\"text-align: right;\">\n",
       "      <th></th>\n",
       "      <th>Unnamed: 0</th>\n",
       "      <th>date</th>\n",
       "      <th>year</th>\n",
       "      <th>month</th>\n",
       "      <th>day</th>\n",
       "      <th>date_time</th>\n",
       "      <th>date_documented</th>\n",
       "      <th>city_area</th>\n",
       "      <th>state</th>\n",
       "      <th>country</th>\n",
       "      <th>ufo_shape</th>\n",
       "      <th>encounter_length</th>\n",
       "      <th>described_encounter_length</th>\n",
       "      <th>description</th>\n",
       "      <th>latitude</th>\n",
       "      <th>longitude</th>\n",
       "    </tr>\n",
       "  </thead>\n",
       "  <tbody>\n",
       "    <tr>\n",
       "      <th>0</th>\n",
       "      <td>0</td>\n",
       "      <td>1949-10-10</td>\n",
       "      <td>1949</td>\n",
       "      <td>10</td>\n",
       "      <td>10</td>\n",
       "      <td>10/10/1949 20:30</td>\n",
       "      <td>4/27/2004</td>\n",
       "      <td>san marcos</td>\n",
       "      <td>tx</td>\n",
       "      <td>us</td>\n",
       "      <td>cylinder</td>\n",
       "      <td>2700.0</td>\n",
       "      <td>45 minutes</td>\n",
       "      <td>This event took place in early fall around 194...</td>\n",
       "      <td>29.883056</td>\n",
       "      <td>-97.941111</td>\n",
       "    </tr>\n",
       "    <tr>\n",
       "      <th>1</th>\n",
       "      <td>1</td>\n",
       "      <td>1949-10-10</td>\n",
       "      <td>1949</td>\n",
       "      <td>10</td>\n",
       "      <td>10</td>\n",
       "      <td>10/10/1949 21:00</td>\n",
       "      <td>12/16/2005</td>\n",
       "      <td>lackland afb</td>\n",
       "      <td>tx</td>\n",
       "      <td>NaN</td>\n",
       "      <td>light</td>\n",
       "      <td>7200.0</td>\n",
       "      <td>1-2 hrs</td>\n",
       "      <td>1949 Lackland AFB&amp;#44 TX.  Lights racing acros...</td>\n",
       "      <td>29.384210</td>\n",
       "      <td>-98.581082</td>\n",
       "    </tr>\n",
       "    <tr>\n",
       "      <th>2</th>\n",
       "      <td>2</td>\n",
       "      <td>1955-10-10</td>\n",
       "      <td>1955</td>\n",
       "      <td>10</td>\n",
       "      <td>10</td>\n",
       "      <td>10/10/1955 17:00</td>\n",
       "      <td>1/21/2008</td>\n",
       "      <td>chester (uk/england)</td>\n",
       "      <td>NaN</td>\n",
       "      <td>gb</td>\n",
       "      <td>circle</td>\n",
       "      <td>20.0</td>\n",
       "      <td>20 seconds</td>\n",
       "      <td>Green/Orange circular disc over Chester&amp;#44 En...</td>\n",
       "      <td>53.200000</td>\n",
       "      <td>-2.916667</td>\n",
       "    </tr>\n",
       "    <tr>\n",
       "      <th>3</th>\n",
       "      <td>3</td>\n",
       "      <td>1956-10-10</td>\n",
       "      <td>1956</td>\n",
       "      <td>10</td>\n",
       "      <td>10</td>\n",
       "      <td>10/10/1956 21:00</td>\n",
       "      <td>1/17/2004</td>\n",
       "      <td>edna</td>\n",
       "      <td>tx</td>\n",
       "      <td>us</td>\n",
       "      <td>circle</td>\n",
       "      <td>20.0</td>\n",
       "      <td>1/2 hour</td>\n",
       "      <td>My older brother and twin sister were leaving ...</td>\n",
       "      <td>28.978333</td>\n",
       "      <td>-96.645833</td>\n",
       "    </tr>\n",
       "    <tr>\n",
       "      <th>4</th>\n",
       "      <td>4</td>\n",
       "      <td>1960-10-10</td>\n",
       "      <td>1960</td>\n",
       "      <td>10</td>\n",
       "      <td>10</td>\n",
       "      <td>10/10/1960 20:00</td>\n",
       "      <td>1/22/2004</td>\n",
       "      <td>kaneohe</td>\n",
       "      <td>hi</td>\n",
       "      <td>us</td>\n",
       "      <td>light</td>\n",
       "      <td>900.0</td>\n",
       "      <td>15 minutes</td>\n",
       "      <td>AS a Marine 1st Lt. flying an FJ4B fighter/att...</td>\n",
       "      <td>21.418056</td>\n",
       "      <td>-157.803611</td>\n",
       "    </tr>\n",
       "  </tbody>\n",
       "</table>\n",
       "</div>"
      ],
      "text/plain": [
       "   Unnamed: 0        date  year  month  day         date_time date_documented  \\\n",
       "0           0  1949-10-10  1949     10   10  10/10/1949 20:30       4/27/2004   \n",
       "1           1  1949-10-10  1949     10   10  10/10/1949 21:00      12/16/2005   \n",
       "2           2  1955-10-10  1955     10   10  10/10/1955 17:00       1/21/2008   \n",
       "3           3  1956-10-10  1956     10   10  10/10/1956 21:00       1/17/2004   \n",
       "4           4  1960-10-10  1960     10   10  10/10/1960 20:00       1/22/2004   \n",
       "\n",
       "              city_area state country ufo_shape  encounter_length  \\\n",
       "0            san marcos    tx      us  cylinder            2700.0   \n",
       "1          lackland afb    tx     NaN     light            7200.0   \n",
       "2  chester (uk/england)   NaN      gb    circle              20.0   \n",
       "3                  edna    tx      us    circle              20.0   \n",
       "4               kaneohe    hi      us     light             900.0   \n",
       "\n",
       "  described_encounter_length  \\\n",
       "0                 45 minutes   \n",
       "1                    1-2 hrs   \n",
       "2                 20 seconds   \n",
       "3                   1/2 hour   \n",
       "4                 15 minutes   \n",
       "\n",
       "                                         description   latitude   longitude  \n",
       "0  This event took place in early fall around 194...  29.883056  -97.941111  \n",
       "1  1949 Lackland AFB&#44 TX.  Lights racing acros...  29.384210  -98.581082  \n",
       "2  Green/Orange circular disc over Chester&#44 En...  53.200000   -2.916667  \n",
       "3  My older brother and twin sister were leaving ...  28.978333  -96.645833  \n",
       "4  AS a Marine 1st Lt. flying an FJ4B fighter/att...  21.418056 -157.803611  "
      ]
     },
     "execution_count": 9,
     "metadata": {},
     "output_type": "execute_result"
    }
   ],
   "source": [
    "ufo.head()"
   ]
  },
  {
   "cell_type": "markdown",
   "metadata": {
    "colab_type": "text",
    "id": "0j9_fsrPx9a6"
   },
   "source": [
    "## Select a piece of your dataframe. We won't work with the whole dataframe for now, just a few columns. Create a new dataframe called `ufo_vars` and select only the following columns of the `ufo` dataframe. \n",
    "\n",
    "`year`, `month`, `state`, `country`, `ufo_shape`, `encounter_length`"
   ]
  },
  {
   "cell_type": "code",
   "execution_count": 12,
   "metadata": {
    "ExecuteTime": {
     "end_time": "2020-12-04T01:28:45.573362Z",
     "start_time": "2020-12-04T01:28:45.552383Z"
    },
    "colab": {},
    "colab_type": "code",
    "id": "bYDAUGLHx9a7"
   },
   "outputs": [],
   "source": [
    "ufo_var = ufo.loc[:,['year', 'month', 'state', 'country', 'ufo_shape', 'encounter_length']]"
   ]
  },
  {
   "cell_type": "markdown",
   "metadata": {
    "colab_type": "text",
    "id": "GvJDxlE5x9bA"
   },
   "source": [
    "Perform a *.head()* on your result to check if you did it right.\n",
    "\n",
    "Expected output:\n",
    "\n",
    ">\n",
    "> |    |   year |   month | state   | country   | ufo_shape   |   encounter_length |\n",
    "|---:|-------:|--------:|:--------|:----------|:------------|-------------------:|\n",
    "|  0 |   1949 |      10 | tx      | us        | cylinder    |               2700 |\n",
    "|  1 |   1949 |      10 | tx      | nan       | light       |               7200 |\n",
    "|  2 |   1955 |      10 | nan     | gb        | circle      |                 20 |\n",
    "|  3 |   1956 |      10 | tx      | us        | circle      |                 20 |\n",
    "|  4 |   1960 |      10 | hi      | us        | light       |                900 |"
   ]
  },
  {
   "cell_type": "code",
   "execution_count": 13,
   "metadata": {
    "ExecuteTime": {
     "end_time": "2020-12-04T01:28:53.061042Z",
     "start_time": "2020-12-04T01:28:53.036109Z"
    },
    "colab": {},
    "colab_type": "code",
    "id": "eUdV5b9Nx9bB"
   },
   "outputs": [
    {
     "data": {
      "text/html": [
       "<div>\n",
       "<style scoped>\n",
       "    .dataframe tbody tr th:only-of-type {\n",
       "        vertical-align: middle;\n",
       "    }\n",
       "\n",
       "    .dataframe tbody tr th {\n",
       "        vertical-align: top;\n",
       "    }\n",
       "\n",
       "    .dataframe thead th {\n",
       "        text-align: right;\n",
       "    }\n",
       "</style>\n",
       "<table border=\"1\" class=\"dataframe\">\n",
       "  <thead>\n",
       "    <tr style=\"text-align: right;\">\n",
       "      <th></th>\n",
       "      <th>year</th>\n",
       "      <th>month</th>\n",
       "      <th>state</th>\n",
       "      <th>country</th>\n",
       "      <th>ufo_shape</th>\n",
       "      <th>encounter_length</th>\n",
       "    </tr>\n",
       "  </thead>\n",
       "  <tbody>\n",
       "    <tr>\n",
       "      <th>0</th>\n",
       "      <td>1949</td>\n",
       "      <td>10</td>\n",
       "      <td>tx</td>\n",
       "      <td>us</td>\n",
       "      <td>cylinder</td>\n",
       "      <td>2700.0</td>\n",
       "    </tr>\n",
       "    <tr>\n",
       "      <th>1</th>\n",
       "      <td>1949</td>\n",
       "      <td>10</td>\n",
       "      <td>tx</td>\n",
       "      <td>NaN</td>\n",
       "      <td>light</td>\n",
       "      <td>7200.0</td>\n",
       "    </tr>\n",
       "    <tr>\n",
       "      <th>2</th>\n",
       "      <td>1955</td>\n",
       "      <td>10</td>\n",
       "      <td>NaN</td>\n",
       "      <td>gb</td>\n",
       "      <td>circle</td>\n",
       "      <td>20.0</td>\n",
       "    </tr>\n",
       "    <tr>\n",
       "      <th>3</th>\n",
       "      <td>1956</td>\n",
       "      <td>10</td>\n",
       "      <td>tx</td>\n",
       "      <td>us</td>\n",
       "      <td>circle</td>\n",
       "      <td>20.0</td>\n",
       "    </tr>\n",
       "    <tr>\n",
       "      <th>4</th>\n",
       "      <td>1960</td>\n",
       "      <td>10</td>\n",
       "      <td>hi</td>\n",
       "      <td>us</td>\n",
       "      <td>light</td>\n",
       "      <td>900.0</td>\n",
       "    </tr>\n",
       "  </tbody>\n",
       "</table>\n",
       "</div>"
      ],
      "text/plain": [
       "   year  month state country ufo_shape  encounter_length\n",
       "0  1949     10    tx      us  cylinder            2700.0\n",
       "1  1949     10    tx     NaN     light            7200.0\n",
       "2  1955     10   NaN      gb    circle              20.0\n",
       "3  1956     10    tx      us    circle              20.0\n",
       "4  1960     10    hi      us     light             900.0"
      ]
     },
     "execution_count": 13,
     "metadata": {},
     "output_type": "execute_result"
    }
   ],
   "source": [
    "ufo_var.head()"
   ]
  },
  {
   "cell_type": "markdown",
   "metadata": {
    "colab_type": "text",
    "id": "G7MVTOxEx9bG"
   },
   "source": [
    "## Rename the variable `encounter_length` to `encounter_seconds`. Keep using the `ufo_vars` dataset for the following tasks, unless specifically specified.\n",
    "\n",
    "Again, check your results to check if you did it right.\n",
    "\n",
    "Expected output:\n",
    "\n",
    ">\n",
    ">|    |   year |   month | state   | country   | ufo_shape   |   encounter_seconds |\n",
    "|---:|-------:|--------:|:--------|:----------|:------------|--------------------:|\n",
    "|  0 |   1949 |      10 | tx      | us        | cylinder    |                2700 |\n",
    "|  1 |   1949 |      10 | tx      | nan       | light       |                7200 |\n",
    "|  2 |   1955 |      10 | nan     | gb        | circle      |                  20 |\n",
    "|  3 |   1956 |      10 | tx      | us        | circle      |                  20 |\n",
    "|  4 |   1960 |      10 | hi      | us        | light       |                 900 |"
   ]
  },
  {
   "cell_type": "code",
   "execution_count": 17,
   "metadata": {
    "ExecuteTime": {
     "end_time": "2020-12-04T02:01:54.417142Z",
     "start_time": "2020-12-04T02:01:54.406132Z"
    },
    "colab": {},
    "colab_type": "code",
    "id": "xO95Un1Ix9bI"
   },
   "outputs": [],
   "source": [
    "ufo_var.rename({'encounter_length':'encounter_seconds'}, axis=1, inplace=True)"
   ]
  },
  {
   "cell_type": "code",
   "execution_count": 18,
   "metadata": {
    "ExecuteTime": {
     "end_time": "2020-12-04T02:01:59.294861Z",
     "start_time": "2020-12-04T02:01:59.274914Z"
    }
   },
   "outputs": [
    {
     "data": {
      "text/html": [
       "<div>\n",
       "<style scoped>\n",
       "    .dataframe tbody tr th:only-of-type {\n",
       "        vertical-align: middle;\n",
       "    }\n",
       "\n",
       "    .dataframe tbody tr th {\n",
       "        vertical-align: top;\n",
       "    }\n",
       "\n",
       "    .dataframe thead th {\n",
       "        text-align: right;\n",
       "    }\n",
       "</style>\n",
       "<table border=\"1\" class=\"dataframe\">\n",
       "  <thead>\n",
       "    <tr style=\"text-align: right;\">\n",
       "      <th></th>\n",
       "      <th>year</th>\n",
       "      <th>month</th>\n",
       "      <th>state</th>\n",
       "      <th>country</th>\n",
       "      <th>ufo_shape</th>\n",
       "      <th>encounter_seconds</th>\n",
       "    </tr>\n",
       "  </thead>\n",
       "  <tbody>\n",
       "    <tr>\n",
       "      <th>0</th>\n",
       "      <td>1949</td>\n",
       "      <td>10</td>\n",
       "      <td>tx</td>\n",
       "      <td>us</td>\n",
       "      <td>cylinder</td>\n",
       "      <td>2700.0</td>\n",
       "    </tr>\n",
       "    <tr>\n",
       "      <th>1</th>\n",
       "      <td>1949</td>\n",
       "      <td>10</td>\n",
       "      <td>tx</td>\n",
       "      <td>NaN</td>\n",
       "      <td>light</td>\n",
       "      <td>7200.0</td>\n",
       "    </tr>\n",
       "    <tr>\n",
       "      <th>2</th>\n",
       "      <td>1955</td>\n",
       "      <td>10</td>\n",
       "      <td>NaN</td>\n",
       "      <td>gb</td>\n",
       "      <td>circle</td>\n",
       "      <td>20.0</td>\n",
       "    </tr>\n",
       "    <tr>\n",
       "      <th>3</th>\n",
       "      <td>1956</td>\n",
       "      <td>10</td>\n",
       "      <td>tx</td>\n",
       "      <td>us</td>\n",
       "      <td>circle</td>\n",
       "      <td>20.0</td>\n",
       "    </tr>\n",
       "    <tr>\n",
       "      <th>4</th>\n",
       "      <td>1960</td>\n",
       "      <td>10</td>\n",
       "      <td>hi</td>\n",
       "      <td>us</td>\n",
       "      <td>light</td>\n",
       "      <td>900.0</td>\n",
       "    </tr>\n",
       "  </tbody>\n",
       "</table>\n",
       "</div>"
      ],
      "text/plain": [
       "   year  month state country ufo_shape  encounter_seconds\n",
       "0  1949     10    tx      us  cylinder             2700.0\n",
       "1  1949     10    tx     NaN     light             7200.0\n",
       "2  1955     10   NaN      gb    circle               20.0\n",
       "3  1956     10    tx      us    circle               20.0\n",
       "4  1960     10    hi      us     light              900.0"
      ]
     },
     "execution_count": 18,
     "metadata": {},
     "output_type": "execute_result"
    }
   ],
   "source": [
    "ufo_var.head()"
   ]
  },
  {
   "cell_type": "markdown",
   "metadata": {
    "colab_type": "text",
    "id": "EhrEqmYNx9bO"
   },
   "source": [
    "## Let's start filtering some records. Create a new dataframe called `ufo_us` and filter the `ufo_vars` dataframe bringing only the results in which the `country` is `\"us\"`"
   ]
  },
  {
   "cell_type": "markdown",
   "metadata": {
    "colab_type": "text",
    "id": "W8XmnkXGx9bP"
   },
   "source": [
    "\n",
    "\n",
    "Expected output:\n",
    "\n",
    ">\n",
    ">|    |   year |   month | state   | country   | ufo_shape   |   encounter_seconds |\n",
    "|---:|-------:|--------:|:--------|:----------|:------------|--------------------:|\n",
    "|  0 |   1949 |      10 | tx      | us        | cylinder    |                2700 |\n",
    "|  3 |   1956 |      10 | tx      | us        | circle      |                  20 |\n",
    "|  4 |   1960 |      10 | hi      | us        | light       |                 900 |\n",
    "|  5 |   1961 |      10 | tn      | us        | sphere      |                 300 |\n",
    "|  7 |   1965 |      10 | ct      | us        | disk        |                1200 |"
   ]
  },
  {
   "cell_type": "code",
   "execution_count": 34,
   "metadata": {
    "ExecuteTime": {
     "end_time": "2020-12-04T02:45:23.682830Z",
     "start_time": "2020-12-04T02:45:23.652532Z"
    },
    "colab": {},
    "colab_type": "code",
    "id": "mfZoz30Kx9bP"
   },
   "outputs": [],
   "source": [
    "#ufo_us = ufo_var[ufo_var['country']=='us']"
   ]
  },
  {
   "cell_type": "code",
   "execution_count": 35,
   "metadata": {
    "ExecuteTime": {
     "end_time": "2020-12-04T02:45:25.125152Z",
     "start_time": "2020-12-04T02:45:25.094199Z"
    }
   },
   "outputs": [
    {
     "data": {
      "text/html": [
       "<div>\n",
       "<style scoped>\n",
       "    .dataframe tbody tr th:only-of-type {\n",
       "        vertical-align: middle;\n",
       "    }\n",
       "\n",
       "    .dataframe tbody tr th {\n",
       "        vertical-align: top;\n",
       "    }\n",
       "\n",
       "    .dataframe thead th {\n",
       "        text-align: right;\n",
       "    }\n",
       "</style>\n",
       "<table border=\"1\" class=\"dataframe\">\n",
       "  <thead>\n",
       "    <tr style=\"text-align: right;\">\n",
       "      <th></th>\n",
       "      <th>year</th>\n",
       "      <th>month</th>\n",
       "      <th>state</th>\n",
       "      <th>country</th>\n",
       "      <th>ufo_shape</th>\n",
       "      <th>encounter_seconds</th>\n",
       "    </tr>\n",
       "  </thead>\n",
       "  <tbody>\n",
       "    <tr>\n",
       "      <th>0</th>\n",
       "      <td>1949</td>\n",
       "      <td>10</td>\n",
       "      <td>tx</td>\n",
       "      <td>us</td>\n",
       "      <td>cylinder</td>\n",
       "      <td>2700.0</td>\n",
       "    </tr>\n",
       "    <tr>\n",
       "      <th>1</th>\n",
       "      <td>1949</td>\n",
       "      <td>10</td>\n",
       "      <td>tx</td>\n",
       "      <td>us</td>\n",
       "      <td>light</td>\n",
       "      <td>7200.0</td>\n",
       "    </tr>\n",
       "    <tr>\n",
       "      <th>2</th>\n",
       "      <td>1955</td>\n",
       "      <td>10</td>\n",
       "      <td>NaN</td>\n",
       "      <td>us</td>\n",
       "      <td>circle</td>\n",
       "      <td>20.0</td>\n",
       "    </tr>\n",
       "    <tr>\n",
       "      <th>3</th>\n",
       "      <td>1956</td>\n",
       "      <td>10</td>\n",
       "      <td>tx</td>\n",
       "      <td>us</td>\n",
       "      <td>circle</td>\n",
       "      <td>20.0</td>\n",
       "    </tr>\n",
       "    <tr>\n",
       "      <th>4</th>\n",
       "      <td>1960</td>\n",
       "      <td>10</td>\n",
       "      <td>hi</td>\n",
       "      <td>us</td>\n",
       "      <td>light</td>\n",
       "      <td>900.0</td>\n",
       "    </tr>\n",
       "    <tr>\n",
       "      <th>...</th>\n",
       "      <td>...</td>\n",
       "      <td>...</td>\n",
       "      <td>...</td>\n",
       "      <td>...</td>\n",
       "      <td>...</td>\n",
       "      <td>...</td>\n",
       "    </tr>\n",
       "    <tr>\n",
       "      <th>80327</th>\n",
       "      <td>2013</td>\n",
       "      <td>9</td>\n",
       "      <td>tn</td>\n",
       "      <td>us</td>\n",
       "      <td>light</td>\n",
       "      <td>600.0</td>\n",
       "    </tr>\n",
       "    <tr>\n",
       "      <th>80328</th>\n",
       "      <td>2013</td>\n",
       "      <td>9</td>\n",
       "      <td>id</td>\n",
       "      <td>us</td>\n",
       "      <td>circle</td>\n",
       "      <td>1200.0</td>\n",
       "    </tr>\n",
       "    <tr>\n",
       "      <th>80329</th>\n",
       "      <td>2013</td>\n",
       "      <td>9</td>\n",
       "      <td>ca</td>\n",
       "      <td>us</td>\n",
       "      <td>other</td>\n",
       "      <td>1200.0</td>\n",
       "    </tr>\n",
       "    <tr>\n",
       "      <th>80330</th>\n",
       "      <td>2013</td>\n",
       "      <td>9</td>\n",
       "      <td>va</td>\n",
       "      <td>us</td>\n",
       "      <td>circle</td>\n",
       "      <td>5.0</td>\n",
       "    </tr>\n",
       "    <tr>\n",
       "      <th>80331</th>\n",
       "      <td>2013</td>\n",
       "      <td>9</td>\n",
       "      <td>ok</td>\n",
       "      <td>us</td>\n",
       "      <td>cigar</td>\n",
       "      <td>1020.0</td>\n",
       "    </tr>\n",
       "  </tbody>\n",
       "</table>\n",
       "<p>80332 rows × 6 columns</p>\n",
       "</div>"
      ],
      "text/plain": [
       "       year  month state country ufo_shape  encounter_seconds\n",
       "0      1949     10    tx      us  cylinder             2700.0\n",
       "1      1949     10    tx      us     light             7200.0\n",
       "2      1955     10   NaN      us    circle               20.0\n",
       "3      1956     10    tx      us    circle               20.0\n",
       "4      1960     10    hi      us     light              900.0\n",
       "...     ...    ...   ...     ...       ...                ...\n",
       "80327  2013      9    tn      us     light              600.0\n",
       "80328  2013      9    id      us    circle             1200.0\n",
       "80329  2013      9    ca      us     other             1200.0\n",
       "80330  2013      9    va      us    circle                5.0\n",
       "80331  2013      9    ok      us     cigar             1020.0\n",
       "\n",
       "[80332 rows x 6 columns]"
      ]
     },
     "execution_count": 35,
     "metadata": {},
     "output_type": "execute_result"
    }
   ],
   "source": [
    "ufo_us"
   ]
  },
  {
   "cell_type": "markdown",
   "metadata": {
    "colab_type": "text",
    "id": "qkEaAlKtx9bT"
   },
   "source": [
    "### Use the `.query()` method to perform the same task as above\n",
    "\n"
   ]
  },
  {
   "cell_type": "code",
   "execution_count": 38,
   "metadata": {
    "ExecuteTime": {
     "end_time": "2020-12-04T02:49:18.980318Z",
     "start_time": "2020-12-04T02:49:18.641136Z"
    },
    "colab": {},
    "colab_type": "code",
    "id": "Z2JrEOIsx9bV"
   },
   "outputs": [],
   "source": [
    "ufo_us = ufo_var.query('country==\"us\"')"
   ]
  },
  {
   "cell_type": "code",
   "execution_count": 40,
   "metadata": {
    "ExecuteTime": {
     "end_time": "2020-12-04T02:49:58.418913Z",
     "start_time": "2020-12-04T02:49:58.397971Z"
    }
   },
   "outputs": [
    {
     "data": {
      "text/html": [
       "<div>\n",
       "<style scoped>\n",
       "    .dataframe tbody tr th:only-of-type {\n",
       "        vertical-align: middle;\n",
       "    }\n",
       "\n",
       "    .dataframe tbody tr th {\n",
       "        vertical-align: top;\n",
       "    }\n",
       "\n",
       "    .dataframe thead th {\n",
       "        text-align: right;\n",
       "    }\n",
       "</style>\n",
       "<table border=\"1\" class=\"dataframe\">\n",
       "  <thead>\n",
       "    <tr style=\"text-align: right;\">\n",
       "      <th></th>\n",
       "      <th>year</th>\n",
       "      <th>month</th>\n",
       "      <th>state</th>\n",
       "      <th>country</th>\n",
       "      <th>ufo_shape</th>\n",
       "      <th>encounter_seconds</th>\n",
       "    </tr>\n",
       "  </thead>\n",
       "  <tbody>\n",
       "    <tr>\n",
       "      <th>0</th>\n",
       "      <td>1949</td>\n",
       "      <td>10</td>\n",
       "      <td>tx</td>\n",
       "      <td>us</td>\n",
       "      <td>cylinder</td>\n",
       "      <td>2700.0</td>\n",
       "    </tr>\n",
       "    <tr>\n",
       "      <th>1</th>\n",
       "      <td>1949</td>\n",
       "      <td>10</td>\n",
       "      <td>tx</td>\n",
       "      <td>us</td>\n",
       "      <td>light</td>\n",
       "      <td>7200.0</td>\n",
       "    </tr>\n",
       "    <tr>\n",
       "      <th>2</th>\n",
       "      <td>1955</td>\n",
       "      <td>10</td>\n",
       "      <td>NaN</td>\n",
       "      <td>us</td>\n",
       "      <td>circle</td>\n",
       "      <td>20.0</td>\n",
       "    </tr>\n",
       "    <tr>\n",
       "      <th>3</th>\n",
       "      <td>1956</td>\n",
       "      <td>10</td>\n",
       "      <td>tx</td>\n",
       "      <td>us</td>\n",
       "      <td>circle</td>\n",
       "      <td>20.0</td>\n",
       "    </tr>\n",
       "    <tr>\n",
       "      <th>4</th>\n",
       "      <td>1960</td>\n",
       "      <td>10</td>\n",
       "      <td>hi</td>\n",
       "      <td>us</td>\n",
       "      <td>light</td>\n",
       "      <td>900.0</td>\n",
       "    </tr>\n",
       "    <tr>\n",
       "      <th>...</th>\n",
       "      <td>...</td>\n",
       "      <td>...</td>\n",
       "      <td>...</td>\n",
       "      <td>...</td>\n",
       "      <td>...</td>\n",
       "      <td>...</td>\n",
       "    </tr>\n",
       "    <tr>\n",
       "      <th>80327</th>\n",
       "      <td>2013</td>\n",
       "      <td>9</td>\n",
       "      <td>tn</td>\n",
       "      <td>us</td>\n",
       "      <td>light</td>\n",
       "      <td>600.0</td>\n",
       "    </tr>\n",
       "    <tr>\n",
       "      <th>80328</th>\n",
       "      <td>2013</td>\n",
       "      <td>9</td>\n",
       "      <td>id</td>\n",
       "      <td>us</td>\n",
       "      <td>circle</td>\n",
       "      <td>1200.0</td>\n",
       "    </tr>\n",
       "    <tr>\n",
       "      <th>80329</th>\n",
       "      <td>2013</td>\n",
       "      <td>9</td>\n",
       "      <td>ca</td>\n",
       "      <td>us</td>\n",
       "      <td>other</td>\n",
       "      <td>1200.0</td>\n",
       "    </tr>\n",
       "    <tr>\n",
       "      <th>80330</th>\n",
       "      <td>2013</td>\n",
       "      <td>9</td>\n",
       "      <td>va</td>\n",
       "      <td>us</td>\n",
       "      <td>circle</td>\n",
       "      <td>5.0</td>\n",
       "    </tr>\n",
       "    <tr>\n",
       "      <th>80331</th>\n",
       "      <td>2013</td>\n",
       "      <td>9</td>\n",
       "      <td>ok</td>\n",
       "      <td>us</td>\n",
       "      <td>cigar</td>\n",
       "      <td>1020.0</td>\n",
       "    </tr>\n",
       "  </tbody>\n",
       "</table>\n",
       "<p>80332 rows × 6 columns</p>\n",
       "</div>"
      ],
      "text/plain": [
       "       year  month state country ufo_shape  encounter_seconds\n",
       "0      1949     10    tx      us  cylinder             2700.0\n",
       "1      1949     10    tx      us     light             7200.0\n",
       "2      1955     10   NaN      us    circle               20.0\n",
       "3      1956     10    tx      us    circle               20.0\n",
       "4      1960     10    hi      us     light              900.0\n",
       "...     ...    ...   ...     ...       ...                ...\n",
       "80327  2013      9    tn      us     light              600.0\n",
       "80328  2013      9    id      us    circle             1200.0\n",
       "80329  2013      9    ca      us     other             1200.0\n",
       "80330  2013      9    va      us    circle                5.0\n",
       "80331  2013      9    ok      us     cigar             1020.0\n",
       "\n",
       "[80332 rows x 6 columns]"
      ]
     },
     "execution_count": 40,
     "metadata": {},
     "output_type": "execute_result"
    }
   ],
   "source": [
    "ufo_us"
   ]
  },
  {
   "cell_type": "markdown",
   "metadata": {
    "colab_type": "text",
    "id": "UujFQpPdx9bZ"
   },
   "source": [
    "See which one do you prefer the most and keep using it for the exercises that follow"
   ]
  },
  {
   "cell_type": "markdown",
   "metadata": {
    "colab_type": "text",
    "id": "Xg2WY-E4x9bZ"
   },
   "source": [
    "## For the `ufo_us` dataframe, select only the cases in which the year is in the first decade (2001-2010). Put that in a variable called `ufo_us_2000`.\n",
    "\n",
    "Check your results."
   ]
  },
  {
   "cell_type": "code",
   "execution_count": 41,
   "metadata": {
    "ExecuteTime": {
     "end_time": "2020-12-04T02:51:55.103007Z",
     "start_time": "2020-12-04T02:51:55.033890Z"
    },
    "colab": {},
    "colab_type": "code",
    "id": "pX-kr4ujx9ba",
    "scrolled": true
   },
   "outputs": [],
   "source": [
    "ufo_us_2000 = ufo_us.query('year>=2001 and year < 2011')"
   ]
  },
  {
   "cell_type": "code",
   "execution_count": 42,
   "metadata": {
    "ExecuteTime": {
     "end_time": "2020-12-04T02:52:06.775940Z",
     "start_time": "2020-12-04T02:52:06.758987Z"
    }
   },
   "outputs": [
    {
     "data": {
      "text/html": [
       "<div>\n",
       "<style scoped>\n",
       "    .dataframe tbody tr th:only-of-type {\n",
       "        vertical-align: middle;\n",
       "    }\n",
       "\n",
       "    .dataframe tbody tr th {\n",
       "        vertical-align: top;\n",
       "    }\n",
       "\n",
       "    .dataframe thead th {\n",
       "        text-align: right;\n",
       "    }\n",
       "</style>\n",
       "<table border=\"1\" class=\"dataframe\">\n",
       "  <thead>\n",
       "    <tr style=\"text-align: right;\">\n",
       "      <th></th>\n",
       "      <th>year</th>\n",
       "      <th>month</th>\n",
       "      <th>state</th>\n",
       "      <th>country</th>\n",
       "      <th>ufo_shape</th>\n",
       "      <th>encounter_seconds</th>\n",
       "    </tr>\n",
       "  </thead>\n",
       "  <tbody>\n",
       "    <tr>\n",
       "      <th>102</th>\n",
       "      <td>2001</td>\n",
       "      <td>10</td>\n",
       "      <td>ia</td>\n",
       "      <td>us</td>\n",
       "      <td>triangle</td>\n",
       "      <td>240.0</td>\n",
       "    </tr>\n",
       "    <tr>\n",
       "      <th>103</th>\n",
       "      <td>2001</td>\n",
       "      <td>10</td>\n",
       "      <td>NaN</td>\n",
       "      <td>us</td>\n",
       "      <td>formation</td>\n",
       "      <td>180.0</td>\n",
       "    </tr>\n",
       "    <tr>\n",
       "      <th>104</th>\n",
       "      <td>2001</td>\n",
       "      <td>10</td>\n",
       "      <td>bc</td>\n",
       "      <td>us</td>\n",
       "      <td>other</td>\n",
       "      <td>300.0</td>\n",
       "    </tr>\n",
       "    <tr>\n",
       "      <th>105</th>\n",
       "      <td>2001</td>\n",
       "      <td>10</td>\n",
       "      <td>ca</td>\n",
       "      <td>us</td>\n",
       "      <td>circle</td>\n",
       "      <td>120.0</td>\n",
       "    </tr>\n",
       "    <tr>\n",
       "      <th>106</th>\n",
       "      <td>2001</td>\n",
       "      <td>10</td>\n",
       "      <td>ia</td>\n",
       "      <td>us</td>\n",
       "      <td>rectangle</td>\n",
       "      <td>300.0</td>\n",
       "    </tr>\n",
       "    <tr>\n",
       "      <th>...</th>\n",
       "      <td>...</td>\n",
       "      <td>...</td>\n",
       "      <td>...</td>\n",
       "      <td>...</td>\n",
       "      <td>...</td>\n",
       "      <td>...</td>\n",
       "    </tr>\n",
       "    <tr>\n",
       "      <th>80269</th>\n",
       "      <td>2010</td>\n",
       "      <td>9</td>\n",
       "      <td>mi</td>\n",
       "      <td>us</td>\n",
       "      <td>changing</td>\n",
       "      <td>300.0</td>\n",
       "    </tr>\n",
       "    <tr>\n",
       "      <th>80270</th>\n",
       "      <td>2010</td>\n",
       "      <td>9</td>\n",
       "      <td>fl</td>\n",
       "      <td>us</td>\n",
       "      <td>oval</td>\n",
       "      <td>2700.0</td>\n",
       "    </tr>\n",
       "    <tr>\n",
       "      <th>80271</th>\n",
       "      <td>2010</td>\n",
       "      <td>9</td>\n",
       "      <td>fl</td>\n",
       "      <td>us</td>\n",
       "      <td>oval</td>\n",
       "      <td>7200.0</td>\n",
       "    </tr>\n",
       "    <tr>\n",
       "      <th>80272</th>\n",
       "      <td>2010</td>\n",
       "      <td>9</td>\n",
       "      <td>nm</td>\n",
       "      <td>us</td>\n",
       "      <td>fireball</td>\n",
       "      <td>300.0</td>\n",
       "    </tr>\n",
       "    <tr>\n",
       "      <th>80273</th>\n",
       "      <td>2010</td>\n",
       "      <td>9</td>\n",
       "      <td>ca</td>\n",
       "      <td>us</td>\n",
       "      <td>circle</td>\n",
       "      <td>300.0</td>\n",
       "    </tr>\n",
       "  </tbody>\n",
       "</table>\n",
       "<p>40293 rows × 6 columns</p>\n",
       "</div>"
      ],
      "text/plain": [
       "       year  month state country  ufo_shape  encounter_seconds\n",
       "102    2001     10    ia      us   triangle              240.0\n",
       "103    2001     10   NaN      us  formation              180.0\n",
       "104    2001     10    bc      us      other              300.0\n",
       "105    2001     10    ca      us     circle              120.0\n",
       "106    2001     10    ia      us  rectangle              300.0\n",
       "...     ...    ...   ...     ...        ...                ...\n",
       "80269  2010      9    mi      us   changing              300.0\n",
       "80270  2010      9    fl      us       oval             2700.0\n",
       "80271  2010      9    fl      us       oval             7200.0\n",
       "80272  2010      9    nm      us   fireball              300.0\n",
       "80273  2010      9    ca      us     circle              300.0\n",
       "\n",
       "[40293 rows x 6 columns]"
      ]
     },
     "execution_count": 42,
     "metadata": {},
     "output_type": "execute_result"
    }
   ],
   "source": [
    "ufo_us_2000"
   ]
  },
  {
   "cell_type": "markdown",
   "metadata": {
    "colab_type": "text",
    "id": "1HIAhdvsx9be"
   },
   "source": [
    "## Try to do the same without the intermediate step of creating the `ufo_us` dataframe. That is, try to filter the dataset for the cases in which the country is \"us\" and the year is (2001-2010) from the original dataframe.\n",
    "\n",
    "\n",
    "\n",
    "*Hint:* You have to make sure all of these conditions are applied simultaneously - using the `and` (or `&`) operator. Try to understand when to use the `and` and the `&` operator."
   ]
  },
  {
   "cell_type": "code",
   "execution_count": 44,
   "metadata": {
    "ExecuteTime": {
     "end_time": "2020-12-04T02:57:18.100863Z",
     "start_time": "2020-12-04T02:57:18.030055Z"
    },
    "colab": {},
    "colab_type": "code",
    "id": "WM6B9flYx9bf"
   },
   "outputs": [
    {
     "data": {
      "text/html": [
       "<div>\n",
       "<style scoped>\n",
       "    .dataframe tbody tr th:only-of-type {\n",
       "        vertical-align: middle;\n",
       "    }\n",
       "\n",
       "    .dataframe tbody tr th {\n",
       "        vertical-align: top;\n",
       "    }\n",
       "\n",
       "    .dataframe thead th {\n",
       "        text-align: right;\n",
       "    }\n",
       "</style>\n",
       "<table border=\"1\" class=\"dataframe\">\n",
       "  <thead>\n",
       "    <tr style=\"text-align: right;\">\n",
       "      <th></th>\n",
       "      <th>Unnamed: 0</th>\n",
       "      <th>date</th>\n",
       "      <th>year</th>\n",
       "      <th>month</th>\n",
       "      <th>day</th>\n",
       "      <th>date_time</th>\n",
       "      <th>date_documented</th>\n",
       "      <th>city_area</th>\n",
       "      <th>state</th>\n",
       "      <th>country</th>\n",
       "      <th>ufo_shape</th>\n",
       "      <th>encounter_length</th>\n",
       "      <th>described_encounter_length</th>\n",
       "      <th>description</th>\n",
       "      <th>latitude</th>\n",
       "      <th>longitude</th>\n",
       "    </tr>\n",
       "  </thead>\n",
       "  <tbody>\n",
       "    <tr>\n",
       "      <th>102</th>\n",
       "      <td>102</td>\n",
       "      <td>2001-10-10</td>\n",
       "      <td>2001</td>\n",
       "      <td>10</td>\n",
       "      <td>10</td>\n",
       "      <td>10/10/2001 03:00</td>\n",
       "      <td>7/1/2002</td>\n",
       "      <td>rockwell city</td>\n",
       "      <td>ia</td>\n",
       "      <td>us</td>\n",
       "      <td>triangle</td>\n",
       "      <td>240.0</td>\n",
       "      <td>4 min.s</td>\n",
       "      <td>Large&amp;#44silent&amp;#44slow&amp;#44low to the ground d...</td>\n",
       "      <td>42.395278</td>\n",
       "      <td>-94.633611</td>\n",
       "    </tr>\n",
       "    <tr>\n",
       "      <th>105</th>\n",
       "      <td>105</td>\n",
       "      <td>2001-10-10</td>\n",
       "      <td>2001</td>\n",
       "      <td>10</td>\n",
       "      <td>10</td>\n",
       "      <td>10/10/2001 20:35</td>\n",
       "      <td>11/20/2001</td>\n",
       "      <td>hayward</td>\n",
       "      <td>ca</td>\n",
       "      <td>us</td>\n",
       "      <td>circle</td>\n",
       "      <td>120.0</td>\n",
       "      <td>2/min.</td>\n",
       "      <td>FALLING STAR  STOPS  &amp;#39SHOTS OUT  DOZENS OF ...</td>\n",
       "      <td>37.668889</td>\n",
       "      <td>-122.079722</td>\n",
       "    </tr>\n",
       "    <tr>\n",
       "      <th>106</th>\n",
       "      <td>106</td>\n",
       "      <td>2001-10-10</td>\n",
       "      <td>2001</td>\n",
       "      <td>10</td>\n",
       "      <td>10</td>\n",
       "      <td>10/10/2001 21:15</td>\n",
       "      <td>11/20/2001</td>\n",
       "      <td>ottumwa</td>\n",
       "      <td>ia</td>\n",
       "      <td>us</td>\n",
       "      <td>rectangle</td>\n",
       "      <td>300.0</td>\n",
       "      <td>3-5 minutes</td>\n",
       "      <td>We saw a square object at night&amp;#44  which had...</td>\n",
       "      <td>41.004167</td>\n",
       "      <td>-92.373611</td>\n",
       "    </tr>\n",
       "    <tr>\n",
       "      <th>107</th>\n",
       "      <td>107</td>\n",
       "      <td>2001-10-10</td>\n",
       "      <td>2001</td>\n",
       "      <td>10</td>\n",
       "      <td>10</td>\n",
       "      <td>10/10/2001 21:30</td>\n",
       "      <td>11/20/2001</td>\n",
       "      <td>fresno</td>\n",
       "      <td>ca</td>\n",
       "      <td>us</td>\n",
       "      <td>changing</td>\n",
       "      <td>900.0</td>\n",
       "      <td>15 min. apprx</td>\n",
       "      <td>Objects were sighted driving north on Highway ...</td>\n",
       "      <td>36.747778</td>\n",
       "      <td>-119.771389</td>\n",
       "    </tr>\n",
       "    <tr>\n",
       "      <th>108</th>\n",
       "      <td>108</td>\n",
       "      <td>2001-10-10</td>\n",
       "      <td>2001</td>\n",
       "      <td>10</td>\n",
       "      <td>10</td>\n",
       "      <td>10/10/2001 22:00</td>\n",
       "      <td>11/20/2001</td>\n",
       "      <td>phoenix</td>\n",
       "      <td>az</td>\n",
       "      <td>us</td>\n",
       "      <td>triangle</td>\n",
       "      <td>60.0</td>\n",
       "      <td>less then a minute</td>\n",
       "      <td>Triangle shaped craft spotted flying west to e...</td>\n",
       "      <td>33.448333</td>\n",
       "      <td>-112.073333</td>\n",
       "    </tr>\n",
       "    <tr>\n",
       "      <th>...</th>\n",
       "      <td>...</td>\n",
       "      <td>...</td>\n",
       "      <td>...</td>\n",
       "      <td>...</td>\n",
       "      <td>...</td>\n",
       "      <td>...</td>\n",
       "      <td>...</td>\n",
       "      <td>...</td>\n",
       "      <td>...</td>\n",
       "      <td>...</td>\n",
       "      <td>...</td>\n",
       "      <td>...</td>\n",
       "      <td>...</td>\n",
       "      <td>...</td>\n",
       "      <td>...</td>\n",
       "      <td>...</td>\n",
       "    </tr>\n",
       "    <tr>\n",
       "      <th>80269</th>\n",
       "      <td>80269</td>\n",
       "      <td>2010-09-09</td>\n",
       "      <td>2010</td>\n",
       "      <td>9</td>\n",
       "      <td>9</td>\n",
       "      <td>9/9/2010 21:30</td>\n",
       "      <td>11/21/2010</td>\n",
       "      <td>brighton</td>\n",
       "      <td>mi</td>\n",
       "      <td>us</td>\n",
       "      <td>changing</td>\n",
       "      <td>300.0</td>\n",
       "      <td>3-5 minutes</td>\n",
       "      <td>Glittery random lights near each other&amp;#44 rea...</td>\n",
       "      <td>42.529444</td>\n",
       "      <td>-83.780278</td>\n",
       "    </tr>\n",
       "    <tr>\n",
       "      <th>80270</th>\n",
       "      <td>80270</td>\n",
       "      <td>2010-09-09</td>\n",
       "      <td>2010</td>\n",
       "      <td>9</td>\n",
       "      <td>9</td>\n",
       "      <td>9/9/2010 22:00</td>\n",
       "      <td>11/21/2010</td>\n",
       "      <td>gainesville</td>\n",
       "      <td>fl</td>\n",
       "      <td>us</td>\n",
       "      <td>oval</td>\n",
       "      <td>2700.0</td>\n",
       "      <td>45 min</td>\n",
       "      <td>2nd night watching the objects&amp;#44 approximate...</td>\n",
       "      <td>29.651389</td>\n",
       "      <td>-82.325000</td>\n",
       "    </tr>\n",
       "    <tr>\n",
       "      <th>80271</th>\n",
       "      <td>80271</td>\n",
       "      <td>2010-09-09</td>\n",
       "      <td>2010</td>\n",
       "      <td>9</td>\n",
       "      <td>9</td>\n",
       "      <td>9/9/2010 22:00</td>\n",
       "      <td>11/21/2010</td>\n",
       "      <td>gainesville</td>\n",
       "      <td>fl</td>\n",
       "      <td>us</td>\n",
       "      <td>oval</td>\n",
       "      <td>7200.0</td>\n",
       "      <td>2+ hrs</td>\n",
       "      <td>Multiple sightings by multiple whitnesses&amp;#44 ...</td>\n",
       "      <td>29.651389</td>\n",
       "      <td>-82.325000</td>\n",
       "    </tr>\n",
       "    <tr>\n",
       "      <th>80272</th>\n",
       "      <td>80272</td>\n",
       "      <td>2010-09-09</td>\n",
       "      <td>2010</td>\n",
       "      <td>9</td>\n",
       "      <td>9</td>\n",
       "      <td>9/9/2010 22:00</td>\n",
       "      <td>11/21/2010</td>\n",
       "      <td>lemitar</td>\n",
       "      <td>nm</td>\n",
       "      <td>us</td>\n",
       "      <td>fireball</td>\n",
       "      <td>300.0</td>\n",
       "      <td>3 to 5 mins</td>\n",
       "      <td>orange lights in the southeastern sky in New M...</td>\n",
       "      <td>34.159722</td>\n",
       "      <td>-106.909722</td>\n",
       "    </tr>\n",
       "    <tr>\n",
       "      <th>80273</th>\n",
       "      <td>80273</td>\n",
       "      <td>2010-09-09</td>\n",
       "      <td>2010</td>\n",
       "      <td>9</td>\n",
       "      <td>9</td>\n",
       "      <td>9/9/2010 23:19</td>\n",
       "      <td>11/21/2010</td>\n",
       "      <td>upland</td>\n",
       "      <td>ca</td>\n",
       "      <td>us</td>\n",
       "      <td>circle</td>\n",
       "      <td>300.0</td>\n",
       "      <td>3-5 min</td>\n",
       "      <td>It appeared to be an orange round object movin...</td>\n",
       "      <td>34.097500</td>\n",
       "      <td>-117.647500</td>\n",
       "    </tr>\n",
       "  </tbody>\n",
       "</table>\n",
       "<p>31910 rows × 16 columns</p>\n",
       "</div>"
      ],
      "text/plain": [
       "       Unnamed: 0        date  year  month  day         date_time  \\\n",
       "102           102  2001-10-10  2001     10   10  10/10/2001 03:00   \n",
       "105           105  2001-10-10  2001     10   10  10/10/2001 20:35   \n",
       "106           106  2001-10-10  2001     10   10  10/10/2001 21:15   \n",
       "107           107  2001-10-10  2001     10   10  10/10/2001 21:30   \n",
       "108           108  2001-10-10  2001     10   10  10/10/2001 22:00   \n",
       "...           ...         ...   ...    ...  ...               ...   \n",
       "80269       80269  2010-09-09  2010      9    9    9/9/2010 21:30   \n",
       "80270       80270  2010-09-09  2010      9    9    9/9/2010 22:00   \n",
       "80271       80271  2010-09-09  2010      9    9    9/9/2010 22:00   \n",
       "80272       80272  2010-09-09  2010      9    9    9/9/2010 22:00   \n",
       "80273       80273  2010-09-09  2010      9    9    9/9/2010 23:19   \n",
       "\n",
       "      date_documented      city_area state country  ufo_shape  \\\n",
       "102          7/1/2002  rockwell city    ia      us   triangle   \n",
       "105        11/20/2001        hayward    ca      us     circle   \n",
       "106        11/20/2001        ottumwa    ia      us  rectangle   \n",
       "107        11/20/2001         fresno    ca      us   changing   \n",
       "108        11/20/2001        phoenix    az      us   triangle   \n",
       "...               ...            ...   ...     ...        ...   \n",
       "80269      11/21/2010       brighton    mi      us   changing   \n",
       "80270      11/21/2010    gainesville    fl      us       oval   \n",
       "80271      11/21/2010    gainesville    fl      us       oval   \n",
       "80272      11/21/2010        lemitar    nm      us   fireball   \n",
       "80273      11/21/2010         upland    ca      us     circle   \n",
       "\n",
       "       encounter_length described_encounter_length  \\\n",
       "102               240.0                    4 min.s   \n",
       "105               120.0                     2/min.   \n",
       "106               300.0                3-5 minutes   \n",
       "107               900.0              15 min. apprx   \n",
       "108                60.0         less then a minute   \n",
       "...                 ...                        ...   \n",
       "80269             300.0                3-5 minutes   \n",
       "80270            2700.0                     45 min   \n",
       "80271            7200.0                     2+ hrs   \n",
       "80272             300.0                3 to 5 mins   \n",
       "80273             300.0                    3-5 min   \n",
       "\n",
       "                                             description   latitude  \\\n",
       "102    Large&#44silent&#44slow&#44low to the ground d...  42.395278   \n",
       "105    FALLING STAR  STOPS  &#39SHOTS OUT  DOZENS OF ...  37.668889   \n",
       "106    We saw a square object at night&#44  which had...  41.004167   \n",
       "107    Objects were sighted driving north on Highway ...  36.747778   \n",
       "108    Triangle shaped craft spotted flying west to e...  33.448333   \n",
       "...                                                  ...        ...   \n",
       "80269  Glittery random lights near each other&#44 rea...  42.529444   \n",
       "80270  2nd night watching the objects&#44 approximate...  29.651389   \n",
       "80271  Multiple sightings by multiple whitnesses&#44 ...  29.651389   \n",
       "80272  orange lights in the southeastern sky in New M...  34.159722   \n",
       "80273  It appeared to be an orange round object movin...  34.097500   \n",
       "\n",
       "        longitude  \n",
       "102    -94.633611  \n",
       "105   -122.079722  \n",
       "106    -92.373611  \n",
       "107   -119.771389  \n",
       "108   -112.073333  \n",
       "...           ...  \n",
       "80269  -83.780278  \n",
       "80270  -82.325000  \n",
       "80271  -82.325000  \n",
       "80272 -106.909722  \n",
       "80273 -117.647500  \n",
       "\n",
       "[31910 rows x 16 columns]"
      ]
     },
     "execution_count": 44,
     "metadata": {},
     "output_type": "execute_result"
    }
   ],
   "source": [
    "ufo.query('country == \"us\" and year >= 2001 and year < 2011')"
   ]
  },
  {
   "cell_type": "markdown",
   "metadata": {
    "colab_type": "text",
    "id": "1DfI8Dxzx9bn"
   },
   "source": [
    "## BONUS 1:  Take a look at the column named `ufo_shape`. Compare the number of triangular UFO occurrances in the US from the year 2001 up to 2010 as compared to the years of 1991 up to 2000.\n",
    "\n",
    "*Hint: you should expect roughly ~3 times more cases for 2001-2010 than 1991-2000.*"
   ]
  },
  {
   "cell_type": "code",
   "execution_count": 46,
   "metadata": {
    "ExecuteTime": {
     "end_time": "2020-12-04T02:59:59.582858Z",
     "start_time": "2020-12-04T02:59:59.563913Z"
    },
    "colab": {},
    "colab_type": "code",
    "id": "cLJmLU8Px9bo",
    "scrolled": true
   },
   "outputs": [],
   "source": [
    "# calculate the dataframe from 2001-2010 here\n",
    "ufo_triangular_2001_2010 = ufo.query('ufo_shape == \"triangle\" and year >= 2001 and year < 2011')"
   ]
  },
  {
   "cell_type": "code",
   "execution_count": 47,
   "metadata": {
    "ExecuteTime": {
     "end_time": "2020-12-04T03:00:36.931799Z",
     "start_time": "2020-12-04T03:00:36.909862Z"
    },
    "colab": {},
    "colab_type": "code",
    "id": "oDeS327lx9bs"
   },
   "outputs": [],
   "source": [
    "# calculate the dataframe from 1991-2000 here\n",
    "ufo_triangular_1990_2000 = ufo.query('ufo_shape == \"triangle\" and year >= 1990 and year < 2001')"
   ]
  },
  {
   "cell_type": "markdown",
   "metadata": {
    "colab_type": "text",
    "id": "HZanzq0Sx9bw"
   },
   "source": [
    "How many rows does each dataset have?"
   ]
  },
  {
   "cell_type": "code",
   "execution_count": 51,
   "metadata": {
    "ExecuteTime": {
     "end_time": "2020-12-04T03:02:20.834035Z",
     "start_time": "2020-12-04T03:02:20.828054Z"
    }
   },
   "outputs": [
    {
     "data": {
      "text/plain": [
       "(4087, 16)"
      ]
     },
     "execution_count": 51,
     "metadata": {},
     "output_type": "execute_result"
    }
   ],
   "source": [
    "ufo_triangular_2001_2010.shape"
   ]
  },
  {
   "cell_type": "code",
   "execution_count": 50,
   "metadata": {
    "ExecuteTime": {
     "end_time": "2020-12-04T03:01:52.742687Z",
     "start_time": "2020-12-04T03:01:52.722686Z"
    }
   },
   "outputs": [
    {
     "data": {
      "text/plain": [
       "(1420, 16)"
      ]
     },
     "execution_count": 50,
     "metadata": {},
     "output_type": "execute_result"
    }
   ],
   "source": [
    "ufo_triangular_1990_2000.shape"
   ]
  },
  {
   "cell_type": "markdown",
   "metadata": {
    "colab_type": "text",
    "id": "GqgwlmcIx9bx"
   },
   "source": [
    "## BONUS 1.1: Count how many values does each category of `ufo_shape` has. \n",
    "\n",
    "Expected output:\n",
    "\n",
    "````\n",
    "        light        16565\n",
    "        triangle      7865\n",
    "        circle        7608\n",
    "        fireball      6208\n",
    "        other         5649\n",
    "        unknown       5584\n",
    "        sphere        5387\n",
    "        disk          5213\n",
    "        oval          3733\n",
    "        formation     2457\n",
    "        cigar         2057\n",
    "        changing      1962\n",
    "        flash         1328\n",
    "        rectangle     1297\n",
    "        cylinder      1283\n",
    "        diamond       1178\n",
    "        chevron        952\n",
    "        egg            759\n",
    "        teardrop       750\n",
    "        cone           316\n",
    "        cross          233\n",
    "        delta            7\n",
    "        round            2\n",
    "        crescent         2\n",
    "        dome             1\n",
    "        pyramid          1\n",
    "        changed          1\n",
    "        hexagon          1\n",
    "        flare            1\n",
    "        Name: ufo_shape, dtype: int64\n",
    "\n",
    "````\n",
    "\n"
   ]
  },
  {
   "cell_type": "code",
   "execution_count": 52,
   "metadata": {
    "ExecuteTime": {
     "end_time": "2020-12-04T03:02:52.950878Z",
     "start_time": "2020-12-04T03:02:52.941904Z"
    },
    "colab": {},
    "colab_type": "code",
    "id": "OgcCzRUAx9bx"
   },
   "outputs": [],
   "source": [
    "ufo_shapes = ufo['ufo_shape']"
   ]
  },
  {
   "cell_type": "code",
   "execution_count": 53,
   "metadata": {
    "ExecuteTime": {
     "end_time": "2020-12-04T03:03:07.609874Z",
     "start_time": "2020-12-04T03:03:07.573974Z"
    },
    "colab": {},
    "colab_type": "code",
    "id": "DeiXThC-x9b2"
   },
   "outputs": [
    {
     "data": {
      "text/plain": [
       "light        16565\n",
       "triangle      7865\n",
       "circle        7608\n",
       "fireball      6208\n",
       "other         5649\n",
       "unknown       5584\n",
       "sphere        5387\n",
       "disk          5213\n",
       "oval          3733\n",
       "formation     2457\n",
       "cigar         2057\n",
       "changing      1962\n",
       "flash         1328\n",
       "rectangle     1297\n",
       "cylinder      1283\n",
       "diamond       1178\n",
       "chevron        952\n",
       "egg            759\n",
       "teardrop       750\n",
       "cone           316\n",
       "cross          233\n",
       "delta            7\n",
       "crescent         2\n",
       "round            2\n",
       "changed          1\n",
       "dome             1\n",
       "pyramid          1\n",
       "hexagon          1\n",
       "flare            1\n",
       "Name: ufo_shape, dtype: int64"
      ]
     },
     "execution_count": 53,
     "metadata": {},
     "output_type": "execute_result"
    }
   ],
   "source": [
    "ufo_shapes.value_counts()"
   ]
  },
  {
   "cell_type": "markdown",
   "metadata": {
    "colab_type": "text",
    "id": "HU2yJrXT51Z3"
   },
   "source": [
    "### Mask hints \n",
    "\n",
    "A `mask` is nothing more than a condition. This condition is applied to your whole dataframe (or pandas Series).\n",
    "So for example, if you had a pandas Series with a variable called `Age`, you could create a mask for all people whose `Age` is less than 18 years old using the syntax:\n",
    "\n",
    "`df['Age'] <= 18`\n",
    "\n",
    "This would return a pandas series containing `True` and `False` values. For each index, you'd get a value of `True` or `False`.\n",
    "\n",
    "You could save this mask in a variable, for example:\n",
    "\n",
    "`condition = (df['Age'] <= 18)`\n",
    "\n",
    "And then you could use that variable `condition` to select only the cases of the dataframe in which the index returned `True` using:\n",
    "`df.loc[condition, :]`.\n",
    "\n",
    "\n",
    "### `.query()` hints\n",
    "\n",
    "Remember that the .query() method expects a string. That string should contain the variable of your dataframe without quotation marks and the comparison. For example, if you had a variable called `name`, you'd use a syntax like:\n",
    " `df.query('name == \"Jack\"')`\n",
    " \n",
    "to bring all observations whose column `name` is exactly equal to `\"Jack\"` (note that Jack should be within quotation marks because a name is a string in this example)."
   ]
  },
  {
   "cell_type": "code",
   "execution_count": null,
   "metadata": {
    "colab": {},
    "colab_type": "code",
    "id": "e5qV9Mrix9b8"
   },
   "outputs": [],
   "source": []
  },
  {
   "cell_type": "code",
   "execution_count": null,
   "metadata": {
    "colab": {},
    "colab_type": "code",
    "id": "TZfPwfjLx9cB"
   },
   "outputs": [],
   "source": []
  },
  {
   "cell_type": "code",
   "execution_count": null,
   "metadata": {
    "colab": {},
    "colab_type": "code",
    "id": "jqYCNQryx9cG"
   },
   "outputs": [],
   "source": []
  }
 ],
 "metadata": {
  "colab": {
   "collapsed_sections": [],
   "name": "lab-data-manipulation-filtering.ipynb",
   "provenance": []
  },
  "kernelspec": {
   "display_name": "Python 3",
   "language": "python",
   "name": "python3"
  },
  "language_info": {
   "codemirror_mode": {
    "name": "ipython",
    "version": 3
   },
   "file_extension": ".py",
   "mimetype": "text/x-python",
   "name": "python",
   "nbconvert_exporter": "python",
   "pygments_lexer": "ipython3",
   "version": "3.8.3"
  },
  "toc": {
   "base_numbering": 1,
   "nav_menu": {},
   "number_sections": true,
   "sideBar": true,
   "skip_h1_title": false,
   "title_cell": "Table of Contents",
   "title_sidebar": "Contents",
   "toc_cell": false,
   "toc_position": {},
   "toc_section_display": true,
   "toc_window_display": false
  },
  "varInspector": {
   "cols": {
    "lenName": 16,
    "lenType": 16,
    "lenVar": 40
   },
   "kernels_config": {
    "python": {
     "delete_cmd_postfix": "",
     "delete_cmd_prefix": "del ",
     "library": "var_list.py",
     "varRefreshCmd": "print(var_dic_list())"
    },
    "r": {
     "delete_cmd_postfix": ") ",
     "delete_cmd_prefix": "rm(",
     "library": "var_list.r",
     "varRefreshCmd": "cat(var_dic_list()) "
    }
   },
   "types_to_exclude": [
    "module",
    "function",
    "builtin_function_or_method",
    "instance",
    "_Feature"
   ],
   "window_display": false
  }
 },
 "nbformat": 4,
 "nbformat_minor": 1
}
